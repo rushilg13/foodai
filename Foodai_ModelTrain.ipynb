{
  "nbformat": 4,
  "nbformat_minor": 0,
  "metadata": {
    "colab": {
      "name": "Untitled1.ipynb",
      "provenance": [],
      "collapsed_sections": [],
      "authorship_tag": "ABX9TyOe+QZTDEaIcrvst1oEq1j3",
      "include_colab_link": true
    },
    "kernelspec": {
      "name": "python3",
      "display_name": "Python 3"
    }
  },
  "cells": [
    {
      "cell_type": "markdown",
      "metadata": {
        "id": "view-in-github",
        "colab_type": "text"
      },
      "source": [
        "<a href=\"https://colab.research.google.com/github/rushilg13/foodai/blob/master/Foodai_ModelTrain.ipynb\" target=\"_parent\"><img src=\"https://colab.research.google.com/assets/colab-badge.svg\" alt=\"Open In Colab\"/></a>"
      ]
    },
    {
      "cell_type": "code",
      "metadata": {
        "id": "bKm5JvmG88ak",
        "colab": {
          "base_uri": "https://localhost:8080/",
          "height": 1000
        },
        "outputId": "fc955e89-554f-48b6-8115-102874c06f2c"
      },
      "source": [
        "from keras.models import Sequential\r\n",
        "from keras.layers import Convolution2D, Conv2D\r\n",
        "from keras.layers import MaxPooling2D\r\n",
        "from keras.layers import Activation, Flatten\r\n",
        "from keras.layers import Dense, Dropout\r\n",
        "from keras.optimizers import SGD\r\n",
        "import matplotlib.pyplot as plt\r\n",
        "\r\n",
        "from google.colab import drive\r\n",
        "drive.mount('/content/gdrive')\r\n",
        "\r\n",
        "classifier = Sequential()\r\n",
        "\r\n",
        "# Step 1 - Convolution\r\n",
        "classifier.add(Conv2D(32, (3, 3), input_shape = (64, 64, 3), activation = 'relu'))\r\n",
        "\r\n",
        "# Step 2 - Pooling\r\n",
        "classifier.add(MaxPooling2D(pool_size = (2, 2)))\r\n",
        "\r\n",
        "# Adding a second convolutional layer\r\n",
        "classifier.add(Conv2D(32, (3, 3), activation = 'relu'))\r\n",
        "classifier.add(MaxPooling2D(pool_size = (2, 2)))\r\n",
        "\r\n",
        "# Step 3 - Flattening\r\n",
        "classifier.add(Flatten())\r\n",
        "\r\n",
        "# Step 4 - Full connection\r\n",
        "classifier.add(Dense(units = 128, activation = 'relu'))\r\n",
        "classifier.add(Dense(units = 4, activation = 'sigmoid'))\r\n",
        "\r\n",
        "# Compiling the CNN\r\n",
        "classifier.compile(optimizer = 'adam', loss = 'categorical_crossentropy', metrics = ['accuracy'])\r\n",
        "\r\n",
        "print(classifier.summary())\r\n",
        "\r\n",
        "# Step 2 - Preparing the train/test data and training the model\r\n",
        "\r\n",
        "# Code copied from - https://keras.io/preprocessing/image/\r\n",
        "from keras.preprocessing.image import ImageDataGenerator\r\n",
        "\r\n",
        "train_datagen = ImageDataGenerator(\r\n",
        "        rescale=1./255,\r\n",
        "        shear_range=0.2,\r\n",
        "        zoom_range=0.2,\r\n",
        "        horizontal_flip=True)\r\n",
        "\r\n",
        "test_datagen = ImageDataGenerator(rescale=1./255)\r\n",
        "\r\n",
        "training_set = train_datagen.flow_from_directory('/content/gdrive/My Drive/foodai/dataset',\r\n",
        "                                                 target_size=(64, 64),\r\n",
        "                                                 batch_size=5,\r\n",
        "                                                 class_mode='categorical')\r\n",
        "\r\n",
        "test_set = test_datagen.flow_from_directory('/content/gdrive/My Drive/foodai/test',\r\n",
        "                                            target_size=(64, 64),\r\n",
        "                                            batch_size=5,\r\n",
        "                                            class_mode='categorical') \r\n",
        "history=classifier.fit_generator(\r\n",
        "        training_set,\r\n",
        "        steps_per_epoch=161/5, \r\n",
        "        epochs=50,\r\n",
        "        validation_data=test_set,\r\n",
        "        validation_steps=20)# No of images in test set\r\n",
        "\r\n",
        "plt.plot(history.history['accuracy'])\r\n",
        "plt.plot(history.history['val_accuracy'])\r\n",
        "plt.title('model accuracy')\r\n",
        "plt.ylabel('accuracy')\r\n",
        "plt.xlabel('epoch')\r\n",
        "plt.legend(['train', 'test'], loc='upper left')\r\n",
        "plt.show()\r\n",
        "\r\n",
        "import numpy as np\r\n",
        "from keras.preprocessing import image\r\n",
        "\r\n",
        "test=image.load_img('/content/gdrive/My Drive/foodai/test/burger/2.jpg',target_size = (64, 64))\r\n",
        "test=image.img_to_array(test)\r\n",
        "test=np.expand_dims(test, axis=0)\r\n",
        "\r\n",
        "result=classifier.predict(test)\r\n",
        "training_set.class_indices\r\n",
        "print (result)\r\n",
        "\r\n",
        "# Saving the model\r\n",
        "# model_json = classifier.to_json()\r\n",
        "# with open(\"food_model.json\", \"w\") as json_file:\r\n",
        "#     json_file.write(model_json)\r\n",
        "# classifier.save_weights('food_model.h5')\r\n"
      ],
      "execution_count": 17,
      "outputs": [
        {
          "output_type": "stream",
          "text": [
            "Drive already mounted at /content/gdrive; to attempt to forcibly remount, call drive.mount(\"/content/gdrive\", force_remount=True).\n",
            "Model: \"sequential_16\"\n",
            "_________________________________________________________________\n",
            "Layer (type)                 Output Shape              Param #   \n",
            "=================================================================\n",
            "conv2d_32 (Conv2D)           (None, 62, 62, 32)        896       \n",
            "_________________________________________________________________\n",
            "max_pooling2d_32 (MaxPooling (None, 31, 31, 32)        0         \n",
            "_________________________________________________________________\n",
            "conv2d_33 (Conv2D)           (None, 29, 29, 32)        9248      \n",
            "_________________________________________________________________\n",
            "max_pooling2d_33 (MaxPooling (None, 14, 14, 32)        0         \n",
            "_________________________________________________________________\n",
            "flatten_16 (Flatten)         (None, 6272)              0         \n",
            "_________________________________________________________________\n",
            "dense_32 (Dense)             (None, 128)               802944    \n",
            "_________________________________________________________________\n",
            "dense_33 (Dense)             (None, 4)                 516       \n",
            "=================================================================\n",
            "Total params: 813,604\n",
            "Trainable params: 813,604\n",
            "Non-trainable params: 0\n",
            "_________________________________________________________________\n",
            "None\n",
            "Found 161 images belonging to 4 classes.\n",
            "Found 20 images belonging to 4 classes.\n"
          ],
          "name": "stdout"
        },
        {
          "output_type": "stream",
          "text": [
            "/usr/local/lib/python3.6/dist-packages/tensorflow/python/keras/engine/training.py:1844: UserWarning: `Model.fit_generator` is deprecated and will be removed in a future version. Please use `Model.fit`, which supports generators.\n",
            "  warnings.warn('`Model.fit_generator` is deprecated and '\n"
          ],
          "name": "stderr"
        },
        {
          "output_type": "stream",
          "text": [
            "Epoch 1/50\n",
            "33/32 [==============================] - ETA: 0s - loss: 1.5497 - accuracy: 0.2029WARNING:tensorflow:Your input ran out of data; interrupting training. Make sure that your dataset or generator can generate at least `steps_per_epoch * epochs` batches (in this case, 20 batches). You may need to use the repeat() function when building your dataset.\n",
            "32/32 [==============================] - 7s 191ms/step - loss: 1.5466 - accuracy: 0.2050 - val_loss: 1.3555 - val_accuracy: 0.3500\n",
            "Epoch 2/50\n",
            "32/32 [==============================] - 5s 159ms/step - loss: 1.3591 - accuracy: 0.3575\n",
            "Epoch 3/50\n",
            "32/32 [==============================] - 5s 161ms/step - loss: 1.0392 - accuracy: 0.5634\n",
            "Epoch 4/50\n",
            "32/32 [==============================] - 5s 163ms/step - loss: 0.9923 - accuracy: 0.5998\n",
            "Epoch 5/50\n",
            "32/32 [==============================] - 5s 168ms/step - loss: 0.7082 - accuracy: 0.7770\n",
            "Epoch 6/50\n",
            "32/32 [==============================] - 5s 161ms/step - loss: 0.5419 - accuracy: 0.7842\n",
            "Epoch 7/50\n",
            "32/32 [==============================] - 5s 158ms/step - loss: 0.5385 - accuracy: 0.7580\n",
            "Epoch 8/50\n",
            "32/32 [==============================] - 6s 195ms/step - loss: 0.4878 - accuracy: 0.7885\n",
            "Epoch 9/50\n",
            "32/32 [==============================] - 6s 162ms/step - loss: 0.6043 - accuracy: 0.7968\n",
            "Epoch 10/50\n",
            "32/32 [==============================] - 5s 151ms/step - loss: 0.3410 - accuracy: 0.8871\n",
            "Epoch 11/50\n",
            "32/32 [==============================] - 6s 185ms/step - loss: 0.4010 - accuracy: 0.8581\n",
            "Epoch 12/50\n",
            "32/32 [==============================] - 5s 171ms/step - loss: 0.2899 - accuracy: 0.9051\n",
            "Epoch 13/50\n",
            "32/32 [==============================] - 5s 169ms/step - loss: 0.3659 - accuracy: 0.8630\n",
            "Epoch 14/50\n",
            "32/32 [==============================] - 5s 166ms/step - loss: 0.2052 - accuracy: 0.9066\n",
            "Epoch 15/50\n",
            "32/32 [==============================] - 6s 179ms/step - loss: 0.2693 - accuracy: 0.8896\n",
            "Epoch 16/50\n",
            "32/32 [==============================] - 6s 166ms/step - loss: 0.3034 - accuracy: 0.8772\n",
            "Epoch 17/50\n",
            "32/32 [==============================] - 6s 180ms/step - loss: 0.1397 - accuracy: 0.9678\n",
            "Epoch 18/50\n",
            "32/32 [==============================] - 5s 173ms/step - loss: 0.1224 - accuracy: 0.9778\n",
            "Epoch 19/50\n",
            "32/32 [==============================] - 6s 173ms/step - loss: 0.1299 - accuracy: 0.9703\n",
            "Epoch 20/50\n",
            "32/32 [==============================] - 5s 172ms/step - loss: 0.1757 - accuracy: 0.9466\n",
            "Epoch 21/50\n",
            "32/32 [==============================] - 5s 159ms/step - loss: 0.1888 - accuracy: 0.9312\n",
            "Epoch 22/50\n",
            "32/32 [==============================] - 5s 158ms/step - loss: 0.0927 - accuracy: 0.9768\n",
            "Epoch 23/50\n",
            "32/32 [==============================] - 5s 167ms/step - loss: 0.1006 - accuracy: 0.9809\n",
            "Epoch 24/50\n",
            "32/32 [==============================] - 5s 165ms/step - loss: 0.0861 - accuracy: 0.9820\n",
            "Epoch 25/50\n",
            "32/32 [==============================] - 5s 166ms/step - loss: 0.0283 - accuracy: 0.9935\n",
            "Epoch 26/50\n",
            "32/32 [==============================] - 5s 171ms/step - loss: 0.0968 - accuracy: 0.9603\n",
            "Epoch 27/50\n",
            "32/32 [==============================] - 5s 165ms/step - loss: 0.0535 - accuracy: 0.9686\n",
            "Epoch 28/50\n",
            "32/32 [==============================] - 5s 170ms/step - loss: 0.1331 - accuracy: 0.9309\n",
            "Epoch 29/50\n",
            "32/32 [==============================] - 5s 172ms/step - loss: 0.1876 - accuracy: 0.9179\n",
            "Epoch 30/50\n",
            "32/32 [==============================] - 5s 173ms/step - loss: 0.0666 - accuracy: 0.9854\n",
            "Epoch 31/50\n",
            "32/32 [==============================] - 6s 175ms/step - loss: 0.1557 - accuracy: 0.9409\n",
            "Epoch 32/50\n",
            "32/32 [==============================] - 6s 165ms/step - loss: 0.1090 - accuracy: 0.9679\n",
            "Epoch 33/50\n",
            "32/32 [==============================] - 6s 177ms/step - loss: 0.0661 - accuracy: 0.9861\n",
            "Epoch 34/50\n",
            "32/32 [==============================] - 5s 163ms/step - loss: 0.0424 - accuracy: 0.9955\n",
            "Epoch 35/50\n",
            "32/32 [==============================] - 5s 165ms/step - loss: 0.0222 - accuracy: 1.0000\n",
            "Epoch 36/50\n",
            "32/32 [==============================] - 5s 164ms/step - loss: 0.0100 - accuracy: 0.9986\n",
            "Epoch 37/50\n",
            "32/32 [==============================] - 5s 165ms/step - loss: 0.0212 - accuracy: 0.9959\n",
            "Epoch 38/50\n",
            "32/32 [==============================] - 5s 164ms/step - loss: 0.0091 - accuracy: 1.0000\n",
            "Epoch 39/50\n",
            "32/32 [==============================] - 5s 164ms/step - loss: 0.0141 - accuracy: 1.0000\n",
            "Epoch 40/50\n",
            "32/32 [==============================] - 5s 167ms/step - loss: 0.0127 - accuracy: 1.0000\n",
            "Epoch 41/50\n",
            "32/32 [==============================] - 5s 164ms/step - loss: 0.0056 - accuracy: 0.9968\n",
            "Epoch 42/50\n",
            "32/32 [==============================] - 6s 172ms/step - loss: 0.0146 - accuracy: 0.9945\n",
            "Epoch 43/50\n",
            "32/32 [==============================] - 5s 166ms/step - loss: 0.0336 - accuracy: 0.9879\n",
            "Epoch 44/50\n",
            "32/32 [==============================] - 5s 168ms/step - loss: 0.0130 - accuracy: 1.0000\n",
            "Epoch 45/50\n",
            "32/32 [==============================] - 5s 167ms/step - loss: 0.0096 - accuracy: 1.0000\n",
            "Epoch 46/50\n",
            "32/32 [==============================] - 5s 166ms/step - loss: 0.0038 - accuracy: 1.0000\n",
            "Epoch 47/50\n",
            "32/32 [==============================] - 5s 163ms/step - loss: 0.0233 - accuracy: 0.9820\n",
            "Epoch 48/50\n",
            "32/32 [==============================] - 5s 171ms/step - loss: 0.0380 - accuracy: 0.9868\n",
            "Epoch 49/50\n",
            "32/32 [==============================] - 5s 166ms/step - loss: 0.0344 - accuracy: 0.9801\n",
            "Epoch 50/50\n",
            "32/32 [==============================] - 5s 162ms/step - loss: 0.0103 - accuracy: 0.9971\n"
          ],
          "name": "stdout"
        },
        {
          "output_type": "display_data",
          "data": {
            "image/png": "[encoded data removed]",
            "text/plain": [
              "<Figure size 432x288 with 1 Axes>"
            ]
          },
          "metadata": {
            "tags": [],
            "needs_background": "light"
          }
        },
        {
          "output_type": "stream",
          "text": [
            "WARNING:tensorflow:11 out of the last 11 calls to <function Model.make_predict_function.<locals>.predict_function at 0x7fc345c438c8> triggered tf.function retracing. Tracing is expensive and the excessive number of tracings could be due to (1) creating @tf.function repeatedly in a loop, (2) passing tensors with different shapes, (3) passing Python objects instead of tensors. For (1), please define your @tf.function outside of the loop. For (2), @tf.function has experimental_relax_shapes=True option that relaxes argument shapes that can avoid unnecessary retracing. For (3), please refer to https://www.tensorflow.org/guide/function#controlling_retracing and https://www.tensorflow.org/api_docs/python/tf/function for  more details.\n",
            "[[0. 1. 0. 1.]]\n"
          ],
          "name": "stdout"
        }
      ]
    },
    {
      "cell_type": "code",
      "metadata": {
        "colab": {
          "base_uri": "https://localhost:8080/"
        },
        "id": "2T4djLELGvBB",
        "outputId": "c88193b9-b2e4-493f-98a5-4fc97a4326ce"
      },
      "source": [
        "\r\n",
        "import numpy as np\r\n",
        "from keras.preprocessing import image\r\n",
        "\r\n",
        "test=image.load_img('/content/gdrive/My Drive/foodai/test/pizza/1.jpg',target_size = (64, 64))\r\n",
        "test=image.img_to_array(test)\r\n",
        "test=np.expand_dims(test, axis=0)\r\n",
        "\r\n",
        "result=classifier.predict(test)\r\n",
        "training_set.class_indices\r\n",
        "print (result)"
      ],
      "execution_count": 21,
      "outputs": [
        {
          "output_type": "stream",
          "text": [
            "[[0. 0. 0. 1.]]\n"
          ],
          "name": "stdout"
        }
      ]
    },
    {
      "cell_type": "code",
      "metadata": {
        "id": "xTxeSFU6Gw2c"
      },
      "source": [
        "classifier.save(\"/content/gdrive/My Drive/my_model.h5\")"
      ],
      "execution_count": 27,
      "outputs": []
    },
    {
      "cell_type": "code",
      "metadata": {
        "id": "07Pm6JRZGx_B",
        "colab": {
          "base_uri": "https://localhost:8080/"
        },
        "outputId": "c6ce903a-18e9-4e2d-b1a2-35aa085474de"
      },
      "source": [
        "# No need\r\n",
        "model_json = classifier.to_json()\r\n",
        "with open(\"food_model_R.json\", \"w\") as json_file:\r\n",
        "    json_file.write(model_json)\r\n",
        "print(model_json)"
      ],
      "execution_count": 31,
      "outputs": [
        {
          "output_type": "stream",
          "text": [
            "{\"class_name\": \"Sequential\", \"config\": {\"name\": \"sequential_16\", \"layers\": [{\"class_name\": \"InputLayer\", \"config\": {\"batch_input_shape\": [null, 64, 64, 3], \"dtype\": \"float32\", \"sparse\": false, \"ragged\": false, \"name\": \"conv2d_32_input\"}}, {\"class_name\": \"Conv2D\", \"config\": {\"name\": \"conv2d_32\", \"trainable\": true, \"batch_input_shape\": [null, 64, 64, 3], \"dtype\": \"float32\", \"filters\": 32, \"kernel_size\": [3, 3], \"strides\": [1, 1], \"padding\": \"valid\", \"data_format\": \"channels_last\", \"dilation_rate\": [1, 1], \"groups\": 1, \"activation\": \"relu\", \"use_bias\": true, \"kernel_initializer\": {\"class_name\": \"GlorotUniform\", \"config\": {\"seed\": null}}, \"bias_initializer\": {\"class_name\": \"Zeros\", \"config\": {}}, \"kernel_regularizer\": null, \"bias_regularizer\": null, \"activity_regularizer\": null, \"kernel_constraint\": null, \"bias_constraint\": null}}, {\"class_name\": \"MaxPooling2D\", \"config\": {\"name\": \"max_pooling2d_32\", \"trainable\": true, \"dtype\": \"float32\", \"pool_size\": [2, 2], \"padding\": \"valid\", \"strides\": [2, 2], \"data_format\": \"channels_last\"}}, {\"class_name\": \"Conv2D\", \"config\": {\"name\": \"conv2d_33\", \"trainable\": true, \"dtype\": \"float32\", \"filters\": 32, \"kernel_size\": [3, 3], \"strides\": [1, 1], \"padding\": \"valid\", \"data_format\": \"channels_last\", \"dilation_rate\": [1, 1], \"groups\": 1, \"activation\": \"relu\", \"use_bias\": true, \"kernel_initializer\": {\"class_name\": \"GlorotUniform\", \"config\": {\"seed\": null}}, \"bias_initializer\": {\"class_name\": \"Zeros\", \"config\": {}}, \"kernel_regularizer\": null, \"bias_regularizer\": null, \"activity_regularizer\": null, \"kernel_constraint\": null, \"bias_constraint\": null}}, {\"class_name\": \"MaxPooling2D\", \"config\": {\"name\": \"max_pooling2d_33\", \"trainable\": true, \"dtype\": \"float32\", \"pool_size\": [2, 2], \"padding\": \"valid\", \"strides\": [2, 2], \"data_format\": \"channels_last\"}}, {\"class_name\": \"Flatten\", \"config\": {\"name\": \"flatten_16\", \"trainable\": true, \"dtype\": \"float32\", \"data_format\": \"channels_last\"}}, {\"class_name\": \"Dense\", \"config\": {\"name\": \"dense_32\", \"trainable\": true, \"dtype\": \"float32\", \"units\": 128, \"activation\": \"relu\", \"use_bias\": true, \"kernel_initializer\": {\"class_name\": \"GlorotUniform\", \"config\": {\"seed\": null}}, \"bias_initializer\": {\"class_name\": \"Zeros\", \"config\": {}}, \"kernel_regularizer\": null, \"bias_regularizer\": null, \"activity_regularizer\": null, \"kernel_constraint\": null, \"bias_constraint\": null}}, {\"class_name\": \"Dense\", \"config\": {\"name\": \"dense_33\", \"trainable\": true, \"dtype\": \"float32\", \"units\": 4, \"activation\": \"sigmoid\", \"use_bias\": true, \"kernel_initializer\": {\"class_name\": \"GlorotUniform\", \"config\": {\"seed\": null}}, \"bias_initializer\": {\"class_name\": \"Zeros\", \"config\": {}}, \"kernel_regularizer\": null, \"bias_regularizer\": null, \"activity_regularizer\": null, \"kernel_constraint\": null, \"bias_constraint\": null}}]}, \"keras_version\": \"2.4.0\", \"backend\": \"tensorflow\"}\n"
          ],
          "name": "stdout"
        }
      ]
    },
    {
      "cell_type": "code",
      "metadata": {
        "id": "djVDc8_AHoxq"
      },
      "source": [
        "import tensorflow as tf\r\n",
        "model = tf.keras.models.load_model('/content/gdrive/My Drive/my_model.h5')"
      ],
      "execution_count": 32,
      "outputs": []
    },
    {
      "cell_type": "code",
      "metadata": {
        "id": "advs6HpqPHwh",
        "colab": {
          "base_uri": "https://localhost:8080/"
        },
        "outputId": "1ee43057-ed00-401d-d96d-f68c9742a195"
      },
      "source": [
        "import numpy as np\r\n",
        "from keras.preprocessing import image\r\n",
        "\r\n",
        "test=image.load_img('/content/gdrive/My Drive/foodai/test/burger/2.jpg',target_size = (64, 64))\r\n",
        "test=image.img_to_array(test)\r\n",
        "test=np.expand_dims(test, axis=0)\r\n",
        "\r\n",
        "result=model.predict(test)\r\n",
        "training_set.class_indices\r\n",
        "print (result)\r\n"
      ],
      "execution_count": 40,
      "outputs": [
        {
          "output_type": "stream",
          "text": [
            "[[0. 1. 0. 1.]]\n"
          ],
          "name": "stdout"
        }
      ]
    },
    {
      "cell_type": "code",
      "metadata": {
        "colab": {
          "base_uri": "https://localhost:8080/"
        },
        "id": "S-x4qiZWH6cT",
        "outputId": "02b5d9d9-3abf-4904-a056-a280eca6ace5"
      },
      "source": [
        "if (result[0][0]==1):\r\n",
        "        outcome='Biryani'\r\n",
        "elif (result[0][1]==1):\r\n",
        "    outcome='Burger'\r\n",
        "elif ( result[0][2]==1):\r\n",
        "    outcome='Chicken Wings'\r\n",
        "elif (result[0][3]==1):\r\n",
        "    outcome='Pizza'\r\n",
        "else:\r\n",
        "    outcome='Unable Determine'\r\n",
        "    \r\n",
        "print('result:', outcome)"
      ],
      "execution_count": 41,
      "outputs": [
        {
          "output_type": "stream",
          "text": [
            "result: Burger\n"
          ],
          "name": "stdout"
        }
      ]
    },
    {
      "cell_type": "code",
      "metadata": {
        "id": "tQfpijzTIUU6"
      },
      "source": [
        ""
      ],
      "execution_count": null,
      "outputs": []
    }
  ]
}